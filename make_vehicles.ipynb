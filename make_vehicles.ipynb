{
 "cells": [
  {
   "cell_type": "code",
   "execution_count": null,
   "metadata": {},
   "outputs": [],
   "source": [
    "import rasterio\n",
    "import scipy.interpolate as spip\n",
    "\n",
    "def get_get_alt(dem_name):\n",
    "    dem = rasterio.open(dem_name)\n",
    "    band = dem.read(1)\n",
    "\n",
    "    def get_alt(lon, lat):\n",
    "        r, c = dem.index(lon, lat)\n",
    "        x, y = dem.xy(r, c)\n",
    "        dx, dy = dem.res[0], dem.res[1]\n",
    "        X = [x - dx, x, x + dx]\n",
    "        Y = [y + dy, y, y - dy]\n",
    "        Z = band[r-1:r+2, c-1:c+2]\n",
    "        return spip.interp2d(X, Y, Z)(lon, lat)[0]\n",
    "\n",
    "    return get_alt"
   ]
  },
  {
   "cell_type": "code",
   "execution_count": null,
   "metadata": {},
   "outputs": [],
   "source": [
    "from shapely.geometry import LineString\n",
    "from shapely.ops import linemerge\n",
    "\n",
    "# gdalbuildvrt _hakone.vrt ./dem05s/5239[67][01].tif ./dem05s/5238[67]7.tif\n",
    "get_alt = get_get_alt('./data/_hakone.vrt')\n",
    "\n",
    "def get_geom_3d(links):\n",
    "    geoms = []\n",
    "    for rid, toward in links:\n",
    "        row = df[df.rID == rid].iloc[0]\n",
    "        coords = row.geometry.coords[:]\n",
    "        coords = coords[::-1] if toward == 'backward' else coords\n",
    "        if row.railState == 'トンネル':\n",
    "            a = get_alt(*coords[0])\n",
    "            geom = LineString([(c[0], c[1], a) for c in coords])\n",
    "        else:\n",
    "            geom = LineString([(c[0], c[1], get_alt(*c)) for c in coords])\n",
    "        geoms.append(geom)\n",
    "    return linemerge(geoms)"
   ]
  },
  {
   "cell_type": "code",
   "execution_count": null,
   "metadata": {},
   "outputs": [],
   "source": [
    "from shapely.geometry import LineString\n",
    "from shapely.ops import substring, transform\n",
    "from pyproj import Transformer\n",
    "\n",
    "to_meter = Transformer.from_crs('EPSG:4612', 'EPSG:2451', always_xy=True).transform\n",
    "to_latlon = Transformer.from_crs('EPSG:2451', 'EPSG:4612', always_xy=True).transform\n",
    "\n",
    "def get_cartgraphic_degrees(geoms, offset, height, timetable):\n",
    "    def get_distances(geom):\n",
    "        lengths = [LineString(geom.coords[i:i+2]).length for i in range(len(geom.coords) - 1)]\n",
    "        dists = [0] + [sum(lengths[:i]) for i in range(2, len(lengths) + 1)]\n",
    "        adists = [lengths[0] / 2] + [sum(lengths[:i]) for i in range(2, len(lengths))] + [sum(lengths) - lengths[-1] / 2]\n",
    "        minmax = lambda d: max(min(d, dists[-1]), 0)\n",
    "        adists = [minmax(d + offset) for d in adists]\n",
    "        return dists, adists\n",
    "\n",
    "    def get_section(geom, height, start, end):\n",
    "        geom = transform(to_meter, geom)\n",
    "        dists, adists = get_distances(geom)\n",
    "        fsec = lambda d: (end - start) * (d / dists[-1]) + start\n",
    "        fpos = lambda d: substring(geom, start_dist=d, end_dist=d).coords[0]\n",
    "        secs = [fsec(d) for d in dists]\n",
    "        poss = transform(to_latlon, LineString([fpos(d) for d in adists])).coords\n",
    "        return [(sec, x, y, z + height) for sec, (x, y, z) in zip(secs, poss)]\n",
    "\n",
    "    sections = [get_section(geom, height, start, end) for geom, (start, end) in zip(geoms, timetable)]\n",
    "    return [a for section in sections for pos in section for a in pos]\n",
    "\n",
    "def get_cartgraphics(geom, height, speed):\n",
    "    def get_distances(geom):\n",
    "        lengths = [LineString(geom.coords[i:i+2]).length for i in range(len(geom.coords) - 1)]\n",
    "        return [0] + [sum(lengths[:i+1]) for i in range(len(lengths))]\n",
    "\n",
    "    dists = get_distances(transform(to_meter, geom))\n",
    "    speed_mps = speed * 1000 / 3600\n",
    "    total_secs = dists[-1] / speed_mps\n",
    "    secs = [total_secs * (d / dists[-1]) for d in dists]\n",
    "    sec_coords = [(sec, x, y, get_alt(x, y) + height) for sec, (x, y) in zip(secs, geom.coords)]\n",
    "    return [a for sec_coord in sec_coords for a in sec_coord]\n",
    "\n",
    "# cartgraphic_degrees = get_cartgraphics(df.geometry[0], 40.0222 + 2.9805, 50)"
   ]
  },
  {
   "cell_type": "code",
   "execution_count": null,
   "metadata": {},
   "outputs": [],
   "source": [
    "def get_header(name):\n",
    "    return {\n",
    "        'id': 'document',\n",
    "        'name': name,\n",
    "        'version': '1.0'\n",
    "    }\n",
    "\n",
    "def get_body(aid, name, epoch, flat_poss_list, box=None, ellipsoid=None):\n",
    "    body = {\n",
    "        'id': aid,\n",
    "        'name': name,\n",
    "        'position': {\n",
    "            'epoch': epoch.strftime('%Y-%m-%dT%H:%M:%S+09'),\n",
    "            'cartographicDegrees': flat_poss_list\n",
    "        },\n",
    "        'orientation': {\n",
    "            'velocityReference': \"%s#position\" % aid\n",
    "        },\n",
    "        'forwardExtrapolationType': 'None',\n",
    "        'backwardExtrapolationType': 'None',\n",
    "    }\n",
    "    if box:\n",
    "        body['box'] = box\n",
    "    if ellipsoid:\n",
    "        body['ellipsoid'] = ellipsoid\n",
    "    return body"
   ]
  },
  {
   "cell_type": "code",
   "execution_count": 176,
   "metadata": {},
   "outputs": [
    {
     "data": {
      "text/plain": [
       "84599132"
      ]
     },
     "execution_count": 176,
     "metadata": {},
     "output_type": "execute_result"
    }
   ],
   "source": [
    "import json\n",
    "from datetime import datetime, timedelta\n",
    "import random as rd\n",
    "import geopandas as gpd\n",
    "from pyproj import Transformer\n",
    "from shapely.ops import substring, transform\n",
    "\n",
    "to_meter = Transformer.from_crs('EPSG:4612', 'EPSG:2451', always_xy=True).transform\n",
    "to_latlon = Transformer.from_crs('EPSG:2451', 'EPSG:4612', always_xy=True).transform\n",
    "\n",
    "# make yumoto down czml\n",
    "box = {\n",
    "    'dimensions': { 'cartesian': [4.8, 2, 2] },\n",
    "    'material': { 'solidColor': { 'color': { 'rgba': [216, 216, 216, 0xff] } } },\n",
    "    'shadows': 'ENABLED'\n",
    "}\n",
    "\n",
    "seeds = [\n",
    "    [6, 180], [7, 120], [8, 90], [9, 120], [10, 120], [11, 120],\n",
    "]\n",
    "\n",
    "def get_secs(hour, interval):\n",
    "    intervals = [rd.randint(3, interval) for _ in range(300)]\n",
    "    return [a + hour * 3600 for i, _ in enumerate(intervals) if (a:=sum(intervals[:i])) < 3600]\n",
    "\n",
    "day = datetime.fromisoformat(\"2022-11-19\")\n",
    "secs = sum([get_secs(*seed) for seed in seeds], [])\n",
    "epochs = [day + timedelta(seconds=sec) for sec in secs]\n",
    "\n",
    "geom = gpd.read_file('./data/_rdcl_1_yumoto.geojson').geometry[0]\n",
    "for_geom = transform(to_latlon, transform(to_meter, geom).parallel_offset(2))\n",
    "for_carts = get_cartgraphics(for_geom, 40.0222 + 2.9805, 30)\n",
    "back_geom = transform(to_latlon, transform(to_meter, geom).parallel_offset(-2))\n",
    "back_carts = get_cartgraphics(back_geom, 40.0222 + 2.9805, 30)\n",
    "\n",
    "packets = (\n",
    "    [get_header('一般車両')] + \n",
    "    [get_body(f'{i*2+1}', '上り', epoch, for_carts, box=box) for i, epoch in enumerate(epochs)] +\n",
    "    [get_body(f'{i*2+2}', '下り', epoch, back_carts, box=box) for i, epoch in enumerate(epochs)]\n",
    ")\n",
    "open('./dst/vehicle_yumoto_czml.json', 'w').write(json.dumps(packets, indent=2, ensure_ascii=False))"
   ]
  },
  {
   "cell_type": "code",
   "execution_count": null,
   "metadata": {},
   "outputs": [],
   "source": []
  }
 ],
 "metadata": {
  "kernelspec": {
   "display_name": "Python 3.10.5 ('.venv': poetry)",
   "language": "python",
   "name": "python3"
  },
  "language_info": {
   "codemirror_mode": {
    "name": "ipython",
    "version": 3
   },
   "file_extension": ".py",
   "mimetype": "text/x-python",
   "name": "python",
   "nbconvert_exporter": "python",
   "pygments_lexer": "ipython3",
   "version": "3.10.5"
  },
  "vscode": {
   "interpreter": {
    "hash": "065f742e4f796a170d092d848d20ee8ef84a781a689ae5c3bcee7c5645bd2543"
   }
  }
 },
 "nbformat": 4,
 "nbformat_minor": 2
}
