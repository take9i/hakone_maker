{
 "cells": [
  {
   "cell_type": "code",
   "execution_count": null,
   "metadata": {},
   "outputs": [],
   "source": [
    "!ogr2ogr -f GPKG -nln rdcl -oo ENCODING=CP932 ./data/_hakone.gpkg ./data/gsi_nummap/523960/DKG-SHP-523960-RdCL-20190125-0001.shp\n",
    "!ogr2ogr -update -append -f GPKG -nln rdcl -oo ENCODING=CP932 ./data/_hakone.gpkg ./data/gsi_nummap/523961/DKG-SHP-523961-RdCL-20180814-0001.shp"
   ]
  },
  {
   "cell_type": "code",
   "execution_count": null,
   "metadata": {},
   "outputs": [],
   "source": [
    "import rasterio\n",
    "import scipy.interpolate as spip\n",
    "\n",
    "\n",
    "def get_get_alt(dem_name):\n",
    "    dem = rasterio.open(dem_name)\n",
    "    band = dem.read(1)\n",
    "\n",
    "    def get_alt(lon, lat):\n",
    "        r, c = dem.index(lon, lat)\n",
    "        x, y = dem.xy(r, c)\n",
    "        dx, dy = dem.res[0], dem.res[1]\n",
    "        X = [x - dx, x, x + dx]\n",
    "        Y = [y + dy, y, y - dy]\n",
    "        Z = band[r - 1 : r + 2, c - 1 : c + 2]\n",
    "        return spip.interp2d(X, Y, Z)(lon, lat)[0]\n",
    "\n",
    "    return get_alt"
   ]
  },
  {
   "cell_type": "code",
   "execution_count": null,
   "metadata": {},
   "outputs": [],
   "source": [
    "from shapely.geometry import LineString\n",
    "\n",
    "get_alt = get_get_alt(\"./data/_hakone.vrt\")\n",
    "\n",
    "\n",
    "def get_geom_3d(row):\n",
    "    coords = row.geometry.coords[:]\n",
    "    if row[\"type\"] == \"トンネル\":\n",
    "        a = get_alt(*coords[0])\n",
    "        return LineString([(c[0], c[1], a) for c in coords])\n",
    "    else:\n",
    "        return LineString([(c[0], c[1], get_alt(*c)) for c in coords])"
   ]
  },
  {
   "cell_type": "code",
   "execution_count": null,
   "metadata": {},
   "outputs": [],
   "source": [
    "import numpy as np\n",
    "from pyproj import Transformer\n",
    "\n",
    "T = Transformer.from_crs(4612, 2451, always_xy=True)\n",
    "\n",
    "\n",
    "def get_edge(reverse, row):\n",
    "    def get_distances(coords):\n",
    "        coords = list(T.itransform(coords))\n",
    "        lengths = np.sqrt(np.sum(np.diff(np.array(coords), axis=0) ** 2, axis=1))\n",
    "        return [sum(lengths[:i]) for i in range(len(lengths) + 1)]\n",
    "\n",
    "    g = row.geometry\n",
    "    coords = g.coords[::-1] if reverse else g.coords[:]\n",
    "    distances = get_distances(coords)\n",
    "    attr = dict(row)\n",
    "    del attr[\"geometry\"]\n",
    "    return [\n",
    "        coords[0],\n",
    "        coords[-1],\n",
    "        attr | {\"length\": distances[-1], \"coords\": coords[:], \"distances\": distances},\n",
    "    ]"
   ]
  },
  {
   "cell_type": "code",
   "execution_count": null,
   "metadata": {},
   "outputs": [],
   "source": [
    "import json\n",
    "from functools import partial\n",
    "import geopandas as gpd\n",
    "\n",
    "df = (\n",
    "    gpd.read_file(\"./data/_hakone.gpkg\", layer=\"rdcl\")\n",
    "    .query(\"ftCode in ('2701','2703','2704') & rnkWidth!='3m未満'\")\n",
    "    .drop(\n",
    "        [\n",
    "            \"lfSpanFr\",\n",
    "            \"lfSpanTo\",\n",
    "            \"tmpFlg\",\n",
    "            \"orgGILvl\",\n",
    "            \"admCode\",\n",
    "            \"devDate\",\n",
    "            \"state\",\n",
    "            \"lvOrder\",\n",
    "            \"admOfcRd\",\n",
    "            \"Width\",\n",
    "            \"sectID\",\n",
    "            \"tollSect\",\n",
    "            \"medSect\",\n",
    "            \"motorway\",\n",
    "            \"repLtdLvl\",\n",
    "            \"rtCode\",\n",
    "        ],\n",
    "        axis=1,\n",
    "    )\n",
    ")\n",
    "\n",
    "CLON, CLAT = 139.103528, 35.233333\n",
    "WIDTH = 20 / 3600\n",
    "df = df.cx[CLON - WIDTH : CLON + WIDTH, CLAT - WIDTH : CLAT + WIDTH]\n",
    "\n",
    "df.geometry = df.apply(get_geom_3d, axis=1)\n",
    "edges = (\n",
    "    df.apply(partial(get_edge, False), axis=1).to_list()\n",
    "    + df.apply(partial(get_edge, True), axis=1).to_list()\n",
    ")\n",
    "# json.dump(edges, open(\"./data/_roads_nw.json\", \"w\"), ensure_ascii=False, indent=2)"
   ]
  },
  {
   "cell_type": "code",
   "execution_count": null,
   "metadata": {},
   "outputs": [],
   "source": []
  },
  {
   "cell_type": "code",
   "execution_count": null,
   "metadata": {},
   "outputs": [],
   "source": [
    "import networkx as nx\n",
    "\n",
    "ax = df.plot()\n",
    "g = nx.MultiDiGraph()\n",
    "g.add_edges_from(edges)\n",
    "nx.draw(g, {n: [n[0], n[1]] for n in list(g.nodes)}, node_size=5, ax=ax)"
   ]
  },
  {
   "cell_type": "code",
   "execution_count": null,
   "metadata": {},
   "outputs": [],
   "source": [
    "import contextily as cx\n",
    "\n",
    "ax = df.plot()\n",
    "cx.add_basemap(ax, crs=df.crs.to_string(), source=cx.providers.OpenStreetMap.Mapnik)"
   ]
  },
  {
   "cell_type": "code",
   "execution_count": null,
   "metadata": {},
   "outputs": [],
   "source": []
  }
 ],
 "metadata": {
  "kernelspec": {
   "display_name": ".venv",
   "language": "python",
   "name": "python3"
  },
  "language_info": {
   "codemirror_mode": {
    "name": "ipython",
    "version": 3
   },
   "file_extension": ".py",
   "mimetype": "text/x-python",
   "name": "python",
   "nbconvert_exporter": "python",
   "pygments_lexer": "ipython3",
   "version": "3.10.5"
  },
  "orig_nbformat": 4,
  "vscode": {
   "interpreter": {
    "hash": "38ab3b74415d287d012e704d4be373c03dd89ee3a3667e30f30df3c3a8922f40"
   }
  }
 },
 "nbformat": 4,
 "nbformat_minor": 2
}
