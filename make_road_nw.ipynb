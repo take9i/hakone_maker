{
 "cells": [
  {
   "cell_type": "code",
   "execution_count": null,
   "metadata": {},
   "outputs": [],
   "source": [
    "import rasterio\n",
    "import scipy.interpolate as spip\n",
    "\n",
    "\n",
    "def get_get_alt(dem_name):\n",
    "    dem = rasterio.open(dem_name)\n",
    "    band = dem.read(1)\n",
    "\n",
    "    def get_alt(lon, lat):\n",
    "        r, c = dem.index(lon, lat)\n",
    "        x, y = dem.xy(r, c)\n",
    "        dx, dy = dem.res[0], dem.res[1]\n",
    "        X = [x - dx, x, x + dx]\n",
    "        Y = [y + dy, y, y - dy]\n",
    "        Z = band[r - 1 : r + 2, c - 1 : c + 2]\n",
    "        return spip.interp2d(X, Y, Z)(lon, lat)[0]\n",
    "\n",
    "    return get_alt"
   ]
  },
  {
   "cell_type": "code",
   "execution_count": null,
   "metadata": {},
   "outputs": [],
   "source": [
    "from shapely.geometry import LineString\n",
    "\n",
    "get_alt = get_get_alt(\"./data/_hakone.vrt\")\n",
    "\n",
    "\n",
    "def get_geom_3d(row):\n",
    "    coords = row.geometry.coords[:]\n",
    "    if row[\"type\"] == \"トンネル\":\n",
    "        a = round(get_alt(*coords[0]), 3)\n",
    "        return LineString([(c[0], c[1], a) for c in coords])\n",
    "    else:\n",
    "        return LineString([(c[0], c[1], round(get_alt(*c), 3)) for c in coords])"
   ]
  },
  {
   "cell_type": "code",
   "execution_count": null,
   "metadata": {},
   "outputs": [],
   "source": [
    "import geopandas as gpd\n",
    "\n",
    "\n",
    "def arrange_df(df):\n",
    "    return df.query(\"ftCode in ('2701','2703','2704') & rnkWidth!='3m未満'\").drop(\n",
    "        [\n",
    "            \"lfSpanFr\",\n",
    "            \"lfSpanTo\",\n",
    "            \"tmpFlg\",\n",
    "            \"orgGILvl\",\n",
    "            \"admCode\",\n",
    "            \"devDate\",\n",
    "            \"state\",\n",
    "            \"lvOrder\",\n",
    "            \"admOfcRd\",\n",
    "            \"Width\",\n",
    "            \"sectID\",\n",
    "            \"tollSect\",\n",
    "            \"medSect\",\n",
    "            \"motorway\",\n",
    "            \"repLtdLvl\",\n",
    "            \"rtCode\",\n",
    "            \"name\",\n",
    "            \"comName\"\n",
    "        ],\n",
    "        axis=1,\n",
    "    )\n",
    "\n",
    "df = arrange_df(gpd.read_file(\"./data/_hakone.gpkg\", layer=\"rdcl\"))\n",
    "df.to_file('./data/_rdcl.geojson', index=False, driver='GeoJSON')\n",
    "# CLON, CLAT = 139.103528, 35.233333\n",
    "# WIDTH = 20 / 3600\n",
    "# df = df.cx[CLON - WIDTH : CLON + WIDTH, CLAT - WIDTH : CLAT + WIDTH]"
   ]
  },
  {
   "cell_type": "code",
   "execution_count": null,
   "metadata": {},
   "outputs": [],
   "source": [
    "import json\n",
    "from functools import partial\n",
    "import numpy as np\n",
    "from pyproj import Transformer\n",
    "\n",
    "T = Transformer.from_crs(4612, 2451, always_xy=True)\n",
    "\n",
    "\n",
    "def get_edge(reverse, row):\n",
    "    def get_distances(coords):\n",
    "        coords = list(T.itransform(coords))\n",
    "        lengths = np.sqrt(np.sum(np.diff(np.array(coords), axis=0) ** 2, axis=1))\n",
    "        return [sum(lengths[:i]) for i in range(len(lengths) + 1)]\n",
    "\n",
    "    g = row.geometry\n",
    "    coords = g.coords[::-1] if reverse else g.coords[:]\n",
    "    distances = get_distances(coords)\n",
    "    attr = dict(row)\n",
    "    del attr[\"geometry\"]\n",
    "    return [\n",
    "        tuple(coords[0][:2]),\n",
    "        tuple(coords[-1][:2]),\n",
    "        attr | {\"length\": distances[-1], \"coords\": coords[:], \"distances\": distances},\n",
    "    ]\n",
    "\n",
    "df.geometry = df.apply(get_geom_3d, axis=1)\n",
    "edges = (\n",
    "    df.apply(partial(get_edge, False), axis=1).to_list()\n",
    "    + df.apply(partial(get_edge, True), axis=1).to_list()\n",
    ")\n",
    "json.dump(edges, open(\"./data/_roads_nw.json\", \"w\"), ensure_ascii=False, indent=2)"
   ]
  },
  {
   "cell_type": "code",
   "execution_count": null,
   "metadata": {},
   "outputs": [],
   "source": []
  },
  {
   "cell_type": "code",
   "execution_count": null,
   "metadata": {},
   "outputs": [],
   "source": [
    "import networkx as nx\n",
    "\n",
    "ax = df.plot()\n",
    "g = nx.MultiDiGraph()\n",
    "g.add_edges_from(edges)\n",
    "nx.draw(g, {n: [n[0], n[1]] for n in list(g.nodes)}, node_size=5, ax=ax)"
   ]
  },
  {
   "cell_type": "code",
   "execution_count": null,
   "metadata": {},
   "outputs": [],
   "source": [
    "import contextily as cx\n",
    "\n",
    "ax = df.plot()\n",
    "cx.add_basemap(ax, crs=df.crs.to_string(), source=cx.providers.OpenStreetMap.Mapnik)"
   ]
  },
  {
   "cell_type": "code",
   "execution_count": 10,
   "metadata": {},
   "outputs": [],
   "source": [
    "import json\n",
    "import networkx as nx\n",
    "\n",
    "edges = [[tuple(start_node), tuple(end_node), prop] for (start_node, end_node, prop) in json.load(open('./data/_roads_nw.json'))]\n",
    "G = nx.Graph()\n",
    "G.add_edges_from(edges)"
   ]
  },
  {
   "cell_type": "code",
   "execution_count": 11,
   "metadata": {},
   "outputs": [
    {
     "data": {
      "text/plain": [
       "<networkx.classes.graph.Graph at 0x11c333850>"
      ]
     },
     "execution_count": 11,
     "metadata": {},
     "output_type": "execute_result"
    }
   ],
   "source": [
    "G"
   ]
  },
  {
   "cell_type": "code",
   "execution_count": null,
   "metadata": {},
   "outputs": [],
   "source": []
  }
 ],
 "metadata": {
  "kernelspec": {
   "display_name": ".venv",
   "language": "python",
   "name": "python3"
  },
  "language_info": {
   "codemirror_mode": {
    "name": "ipython",
    "version": 3
   },
   "file_extension": ".py",
   "mimetype": "text/x-python",
   "name": "python",
   "nbconvert_exporter": "python",
   "pygments_lexer": "ipython3",
   "version": "3.10.5"
  },
  "orig_nbformat": 4,
  "vscode": {
   "interpreter": {
    "hash": "065f742e4f796a170d092d848d20ee8ef84a781a689ae5c3bcee7c5645bd2543"
   }
  }
 },
 "nbformat": 4,
 "nbformat_minor": 2
}
