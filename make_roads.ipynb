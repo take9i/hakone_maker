{
 "cells": [
  {
   "cell_type": "code",
   "execution_count": 13,
   "metadata": {},
   "outputs": [],
   "source": [
    "import geopandas as gpd\n",
    "\n",
    "df = gpd.read_file('./data/_hakone_roads.gpkg')\n",
    "df = df[(df.ftCode.isin(['2701','2703','2704'])) & (df.rnkWidth != '3m未満')]\n",
    "df.to_file('data/_roads_for_v.geojson', index=False, driver='GeoJSON')"
   ]
  },
  {
   "cell_type": "code",
   "execution_count": null,
   "metadata": {},
   "outputs": [],
   "source": []
  },
  {
   "cell_type": "code",
   "execution_count": null,
   "metadata": {},
   "outputs": [],
   "source": [
    "import json\n",
    "import geopandas as gpd\n",
    "import numpy as np\n",
    "from pyproj import Transformer\n",
    "import networkx as nx\n",
    "\n",
    "T = Transformer.from_crs(4612, 2451, always_xy=True)\n",
    "\n",
    "def get_edge(row):\n",
    "    def get_node(coord):\n",
    "        return f\"{coord[0]}_{coord[1]}\"\n",
    "\n",
    "    def get_distances(coords):\n",
    "        coords = list(T.itransform(coords))\n",
    "        lengths = np.sqrt(np.sum(np.diff(np.array(coords), axis=0)**2, axis=1))\n",
    "        return [sum(lengths[:i]) for i in range(len(lengths) + 1)]\n",
    "\n",
    "    g = row['geometry']\n",
    "    head, tail = get_node(g.coords[0]), get_node(g.coords[-1])\n",
    "    distances = get_distances(g.coords)\n",
    "    return [get_node(g.coords[0]), get_node(g.coords[-1]), {\n",
    "        'rID': row['rID'], \n",
    "        'head': head,\n",
    "        'tail': tail,\n",
    "        'length': distances[-1],\n",
    "        'coords': g.coords[:],\n",
    "        'distances': {\n",
    "            head: distances,\n",
    "            tail: get_distances(reversed(g.coords))\n",
    "        }\n",
    "    }]\n",
    "\n",
    "df = gpd.read_file('_roads.geojson')\n",
    "g = nx.Graph()\n",
    "g.add_edges_from(df.apply(get_edge, axis=1))\n",
    "g = nx.MultiGraph(g)\n",
    "open('_roads_nw.json', 'w').write(json.dumps(nx.node_link_data(g)))"
   ]
  },
  {
   "cell_type": "code",
   "execution_count": null,
   "metadata": {},
   "outputs": [],
   "source": [
    "import matplotlib.pyplot as plt\n",
    "import matplotlib\n",
    "import geopandas as gpd\n",
    "\n",
    "matplotlib.rcParams['figure.figsize'] = (8.0, 6.0)\n",
    "\n",
    "def draw_network(g):\n",
    "    pos = {n:tuple(map(float, n.split('_'))) for n in g.nodes}\n",
    "    nx.draw(g, pos, node_size=10)\n",
    "    plt.show()\n",
    "\n",
    "df = gpd.read_file('_roads.geojson')\n",
    "# df.plot()\n",
    "# plt.show()\n",
    "\n",
    "draw_network(g)\n"
   ]
  }
 ],
 "metadata": {
  "kernelspec": {
   "display_name": ".venv",
   "language": "python",
   "name": "python3"
  },
  "language_info": {
   "codemirror_mode": {
    "name": "ipython",
    "version": 3
   },
   "file_extension": ".py",
   "mimetype": "text/x-python",
   "name": "python",
   "nbconvert_exporter": "python",
   "pygments_lexer": "ipython3",
   "version": "3.10.5 (main, Dec  1 2022, 21:32:38) [Clang 14.0.0 (clang-1400.0.29.102)]"
  },
  "orig_nbformat": 4,
  "vscode": {
   "interpreter": {
    "hash": "065f742e4f796a170d092d848d20ee8ef84a781a689ae5c3bcee7c5645bd2543"
   }
  }
 },
 "nbformat": 4,
 "nbformat_minor": 2
}
