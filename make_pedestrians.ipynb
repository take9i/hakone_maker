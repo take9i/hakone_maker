{
 "cells": [
  {
   "cell_type": "code",
   "execution_count": null,
   "metadata": {},
   "outputs": [],
   "source": [
    "# you create geojson on qgis in advance"
   ]
  },
  {
   "cell_type": "code",
   "execution_count": 67,
   "metadata": {},
   "outputs": [],
   "source": [
    "from shapely.geometry import LineString\n",
    "from shapely.ops import transform\n",
    "from pyproj import Transformer\n",
    "import utils\n",
    "\n",
    "get_alt = utils.get_get_alt('./data/_hakone.vrt')\n",
    "to_meter = Transformer.from_crs('EPSG:4612', 'EPSG:2451', always_xy=True).transform\n",
    "\n",
    "def get_cartgraphic_degrees(geoms, height, timetable):\n",
    "    def get_distances(geom):\n",
    "        lengths = [LineString(geom.coords[i:i+2]).length for i in range(len(geom.coords) - 1)]\n",
    "        return [0] + [sum(lengths[:i]) for i in range(1, len(lengths) + 1)]\n",
    "\n",
    "    def get_section(geom, height, start, end):\n",
    "        dists = get_distances(transform(to_meter, geom))\n",
    "        fsec = lambda d: (end - start) * (d / dists[-1]) + start\n",
    "        return [(fsec(d), x, y, get_alt(x, y) + height) for d, (x, y) in zip(dists, geom.coords)]\n",
    "\n",
    "    sections = [get_section(geom, height, start, end) for geom, (start, end) in zip(geoms, timetable)]\n",
    "    return [a for section in sections for pos in section for a in pos]"
   ]
  },
  {
   "cell_type": "code",
   "execution_count": 37,
   "metadata": {},
   "outputs": [],
   "source": [
    "def get_czml_header(name):\n",
    "    return {\n",
    "        'id': 'document',\n",
    "        'name': name,\n",
    "        'version': '1.0'\n",
    "    }\n",
    "\n",
    "def get_czml_body(aid, name, description, epoch, cartgraphic_degrees):\n",
    "    return {\n",
    "        'id': aid,\n",
    "        'name': name,\n",
    "        'description': description,\n",
    "        'position': {\n",
    "            'epoch': epoch.strftime('%Y-%m-%dT%H:%M:%S+09'),\n",
    "            'cartographicDegrees': cartgraphic_degrees\n",
    "        },\n",
    "        'orientation': {\n",
    "            'velocityReference': \"%s#position\" % aid\n",
    "        },\n",
    "        'forwardExtrapolationType': 'None',\n",
    "        'backwardExtrapolationType': 'None',\n",
    "        'model': {\n",
    "            'gltf': 'data/vehicles/pedestrian.glb'\n",
    "        }\n",
    "    }"
   ]
  },
  {
   "cell_type": "code",
   "execution_count": 86,
   "metadata": {},
   "outputs": [
    {
     "data": {
      "text/plain": [
       "[[80, 500],\n",
       " [994, 1594],\n",
       " [1746, 2226],\n",
       " [2443, 3463],\n",
       " [3715, 4375],\n",
       " [4784, 5804],\n",
       " [6000, 6480]]"
      ]
     },
     "execution_count": 86,
     "metadata": {},
     "output_type": "execute_result"
    }
   ],
   "source": [
    "import random as rd\n",
    "\n",
    "TIME_DISTANCES = [\n",
    "     7*60, # 箱根湯本→郷土資料館\n",
    "    10*60, # 郷土資料館→早雲寺\n",
    "     8*60, # 早雲寺→正眼寺\n",
    "    17*60, # 正眼寺→箱根観音\n",
    "    11*60, # 箱根観音→玉簾の滝\n",
    "    17*60, # 玉簾の滝→湯場・熊野神社\n",
    "     8*60, # 湯場・熊野神社→箱根湯本\n",
    "]\n",
    "\n",
    "def get_timetable():\n",
    "    timetables = []\n",
    "    for td in TIME_DISTANCES:\n",
    "        last = timetables[-1][1] if len(timetables) else 0\n",
    "        start = last + rd.randint(60, 500)\n",
    "        timetables.append([start, start + td])\n",
    "    return timetables"
   ]
  },
  {
   "cell_type": "code",
   "execution_count": 92,
   "metadata": {},
   "outputs": [
    {
     "data": {
      "text/plain": [
       "7446418"
      ]
     },
     "execution_count": 92,
     "metadata": {},
     "output_type": "execute_result"
    }
   ],
   "source": [
    "import json\n",
    "from datetime import datetime as dt, timedelta as td\n",
    "import random as rd\n",
    "import geopandas as gpd\n",
    "from pyproj import Transformer\n",
    "from shapely.ops import transform, substring\n",
    "\n",
    "# make pedestrian czml\n",
    "\n",
    "TIME_DISTANCES = [\n",
    "     7*60, # 箱根湯本→郷土資料館\n",
    "    10*60, # 郷土資料館→早雲寺\n",
    "     8*60, # 早雲寺→正眼寺\n",
    "    17*60, # 正眼寺→箱根観音\n",
    "    11*60, # 箱根観音→玉簾の滝\n",
    "    17*60, # 玉簾の滝→湯場・熊野神社\n",
    "     8*60, # 湯場・熊野神社→箱根湯本\n",
    "]\n",
    "SEEDS = [\n",
    "    [6, 900], [7, 600], [8, 600], [9, 300], [10, 180], [11, 180],\n",
    "]\n",
    "HEIGHT = 40.0222\n",
    "ELLIPSOID = {\n",
    "    'radii': { 'cartesian': [1, 1, 1.8] },\n",
    "    'material': { 'solidColor': { 'color': { 'rgba': [216, 216, 216, 0xff] } } },\n",
    "    'shadows': 'ENABLED'\n",
    "}\n",
    "DESCRIPTION = 'Aコース 早雲寺と石畳の旧街道 玉簾の滝<br>移動時間 約75分<br>箱根湯本駅〜(7分)〜郷土資料館〜(10分)〜早雲寺〜(2分)<br>〜白山神社〜(6分)〜正眼寺〜(11分)〜箱根観音〜(11分)<br>〜玉簾の滝〜(14分)〜湯場・熊野神社〜(8分)〜箱根湯本駅'\n",
    "\n",
    "get_alt = utils.get_get_alt('./data/_hakone.vrt')\n",
    "to_meter = Transformer.from_crs('EPSG:4612', 'EPSG:2451', always_xy=True).transform\n",
    "to_latlon = Transformer.from_crs('EPSG:2451', 'EPSG:4612', always_xy=True).transform\n",
    "\n",
    "def get_secs(hour, interval):\n",
    "    intervals = [rd.normalvariate(interval, interval / 3) for _ in range(120)]\n",
    "    return [a + hour * 3600 for i, _ in enumerate(intervals) if (a:=sum(intervals[:i])) < 3600]\n",
    "\n",
    "def get_timetable():\n",
    "    timetables = []\n",
    "    for td in TIME_DISTANCES:\n",
    "        last = timetables[-1][1] if len(timetables) else 0\n",
    "        start = last + rd.randint(60, 500)\n",
    "        timetables.append([start, start + td])\n",
    "    return timetables\n",
    "\n",
    "secs = sum([get_secs(*seed) for seed in SEEDS], [])\n",
    "geoms = gpd.read_file('./data/_rdcl_w_tmp.geojson').sort_values('number').geometry\n",
    "n_geoms = [substring(transform(to_latlon, transform(to_meter, geom).parallel_offset(1, 'right')), 1, 0, normalized=True) for geom in geoms]\n",
    "cart_degs = get_cartgraphic_degrees(n_geoms, HEIGHT, get_timetable())\n",
    "packets = [get_czml_header('歩行者')]\n",
    "n = dt.now()\n",
    "for i, sec in enumerate(secs):\n",
    "    epoch = dt.strptime(f'{n.year}-{n.month}-{n.day}', '%Y-%m-%d') + td(seconds=sec)\n",
    "    packets += [get_czml_body(f'{i}_p', '箱根湯本ぶらぶらお散歩コース', DESCRIPTION, epoch, cart_degs)]\n",
    "open('./dst/pedestrian_a_czml.json', 'w').write(json.dumps(packets, indent=2, ensure_ascii=False))"
   ]
  },
  {
   "cell_type": "code",
   "execution_count": 99,
   "metadata": {},
   "outputs": [
    {
     "data": {
      "text/plain": [
       "6825591"
      ]
     },
     "execution_count": 99,
     "metadata": {},
     "output_type": "execute_result"
    }
   ],
   "source": [
    "import json\n",
    "from datetime import datetime as dt, timedelta as td\n",
    "import random as rd\n",
    "import geopandas as gpd\n",
    "from pyproj import Transformer\n",
    "from shapely.ops import transform, substring\n",
    "\n",
    "# make pedestrian czml (reverse)\n",
    "\n",
    "TIME_DISTANCES = [\n",
    "     8*60, # 湯場・熊野神社→箱根湯本\n",
    "    17*60, # 玉簾の滝→湯場・熊野神社\n",
    "    11*60, # 箱根観音→玉簾の滝\n",
    "    17*60, # 正眼寺→箱根観音\n",
    "     8*60, # 早雲寺→正眼寺\n",
    "    10*60, # 郷土資料館→早雲寺\n",
    "     7*60, # 箱根湯本→郷土資料館\n",
    "]\n",
    "SEEDS = [\n",
    "    [6, 900], [7, 600], [8, 600], [9, 300], [10, 180], [11, 180],\n",
    "]\n",
    "HEIGHT = 40.0222\n",
    "ELLIPSOID = {\n",
    "    'radii': { 'cartesian': [1, 1, 1.8] },\n",
    "    'material': { 'solidColor': { 'color': { 'rgba': [216, 216, 216, 0xff] } } },\n",
    "    'shadows': 'ENABLED'\n",
    "}\n",
    "DESCRIPTION = 'Aコース 早雲寺と石畳の旧街道 玉簾の滝（逆回り）<br>移動時間 約75分<br>箱根湯本駅〜(8分)〜湯場・熊野神社〜(14分)〜玉簾の滝〜(11分)<br>〜箱根観音〜(11分)〜正眼寺〜(6分)〜白山神社〜(2分)<br>〜早雲寺〜(10分)〜郷土資料館〜(7分)〜箱根湯本駅'\n",
    "\n",
    "get_alt = utils.get_get_alt('./data/_hakone.vrt')\n",
    "to_meter = Transformer.from_crs('EPSG:4612', 'EPSG:2451', always_xy=True).transform\n",
    "to_latlon = Transformer.from_crs('EPSG:2451', 'EPSG:4612', always_xy=True).transform\n",
    "\n",
    "def get_secs(hour, interval):\n",
    "    intervals = [rd.normalvariate(interval, interval / 3) for _ in range(120)]\n",
    "    return [a + hour * 3600 for i, _ in enumerate(intervals) if (a:=sum(intervals[:i])) < 3600]\n",
    "\n",
    "def get_timetable():\n",
    "    timetables = []\n",
    "    for td in TIME_DISTANCES:\n",
    "        last = timetables[-1][1] if len(timetables) else 0\n",
    "        start = last + rd.randint(60, 500)\n",
    "        timetables.append([start, start + td])\n",
    "    return timetables\n",
    "\n",
    "secs = sum([get_secs(*seed) for seed in SEEDS], [])\n",
    "geoms = gpd.read_file('./data/_rdcl_w_tmp.geojson').sort_values('number', ascending=False).geometry\n",
    "geoms = [substring(geom, 1, 0, normalized=True) for geom in geoms]\n",
    "n_geoms = [substring(transform(to_latlon, transform(to_meter, geom).parallel_offset(1, 'right')), 1, 0, normalized=True) for geom in geoms]\n",
    "cart_degs = get_cartgraphic_degrees(n_geoms, HEIGHT, get_timetable())\n",
    "packets = [get_czml_header('歩行者')]\n",
    "n = dt.now()\n",
    "for i, sec in enumerate(secs):\n",
    "    epoch = dt.strptime(f'{n.year}-{n.month}-{n.day}', '%Y-%m-%d') + td(seconds=sec)\n",
    "    packets += [get_czml_body(f'{i}_p', '箱根湯本ぶらぶらお散歩コース', DESCRIPTION, epoch, cart_degs)]\n",
    "open('./dst/pedestrian_b_czml.json', 'w').write(json.dumps(packets, indent=2, ensure_ascii=False))"
   ]
  },
  {
   "cell_type": "code",
   "execution_count": null,
   "metadata": {},
   "outputs": [],
   "source": []
  }
 ],
 "metadata": {
  "kernelspec": {
   "display_name": "Python 3.10.5 ('.venv': poetry)",
   "language": "python",
   "name": "python3"
  },
  "language_info": {
   "codemirror_mode": {
    "name": "ipython",
    "version": 3
   },
   "file_extension": ".py",
   "mimetype": "text/x-python",
   "name": "python",
   "nbconvert_exporter": "python",
   "pygments_lexer": "ipython3",
   "version": "3.10.5 (main, Dec  1 2022, 21:32:38) [Clang 14.0.0 (clang-1400.0.29.102)]"
  },
  "vscode": {
   "interpreter": {
    "hash": "065f742e4f796a170d092d848d20ee8ef84a781a689ae5c3bcee7c5645bd2543"
   }
  }
 },
 "nbformat": 4,
 "nbformat_minor": 2
}
