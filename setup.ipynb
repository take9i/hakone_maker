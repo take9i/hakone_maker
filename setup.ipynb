{
 "cells": [
  {
   "cell_type": "code",
   "execution_count": null,
   "metadata": {},
   "outputs": [],
   "source": [
    "# create hakone vrt\n",
    "!gdalbuildvrt data/_hakone.vrt ./data/dem05s/5239[67][01].tif ./data/dem05s/5238[67]7.tif"
   ]
  },
  {
   "cell_type": "code",
   "execution_count": null,
   "metadata": {},
   "outputs": [],
   "source": [
    "# create hakone roads gpkg\n",
    "!ogr2ogr -f GPKG -nln rdcl -oo ENCODING=CP932 ./data/_hakone_roads.gpkg ./data/gsi_nummap/523960/DKG-SHP-523960-RdCL-20190125-0001.shp\n",
    "!ogr2ogr -update -append -f GPKG -nln rdcl -oo ENCODING=CP932 ./data/_hakone_roads.gpkg ./data/gsi_nummap/523961/DKG-SHP-523961-RdCL-20180814-0001.shp"
   ]
  }
 ],
 "metadata": {
  "kernelspec": {
   "display_name": ".venv",
   "language": "python",
   "name": "python3"
  },
  "language_info": {
   "name": "python",
   "version": "3.10.5 (main, Dec  1 2022, 21:32:38) [Clang 14.0.0 (clang-1400.0.29.102)]"
  },
  "orig_nbformat": 4,
  "vscode": {
   "interpreter": {
    "hash": "065f742e4f796a170d092d848d20ee8ef84a781a689ae5c3bcee7c5645bd2543"
   }
  }
 },
 "nbformat": 4,
 "nbformat_minor": 2
}
