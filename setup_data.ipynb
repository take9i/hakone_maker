{
 "cells": [
  {
   "cell_type": "code",
   "execution_count": null,
   "metadata": {},
   "outputs": [],
   "source": [
    "# download dem\n",
    "!mkdir -p data/dem05s\n",
    "!aws s3 cp --profile skc s3://data-osada/_dem05s/ ./data/dem05s/ --exclude '*' --include '5238??.tif' --recursive\n",
    "!aws s3 cp --profile skc s3://data-osada/_dem05s/ ./data/dem05s/ --exclude '*' --include '5239??.tif' --recursive"
   ]
  },
  {
   "cell_type": "code",
   "execution_count": null,
   "metadata": {},
   "outputs": [],
   "source": [
    "# download gsi nummap\n",
    "!mkdir -p data/gsi_nummap\n",
    "!aws s3 cp --profile skc s3://data-osada/gsi_nummap/ ./data/gsi_nummap --exclude '*' --include '*-*-52396?-*-*.zip' --recursive\n",
    "!unzip 'data/gsi_nummap/*.zip' -d data/gsi_nummap"
   ]
  },
  {
   "cell_type": "code",
   "execution_count": null,
   "metadata": {},
   "outputs": [],
   "source": [
    "# create hakone vrt\n",
    "!gdalbuildvrt data/_hakone.vrt data/dem05s/5239[567][01].tif data/dem05s/5238[567]7.tif"
   ]
  },
  {
   "cell_type": "code",
   "execution_count": null,
   "metadata": {},
   "outputs": [],
   "source": [
    "# create hakone gpkg\n",
    "!ogr2ogr -f GPKG -nln rdcl -oo ENCODING=CP932 data/_hakone.gpkg data/gsi_nummap/523960/DKG-SHP-523960-RdCL-20190125-0001.shp\n",
    "!ogr2ogr -update -append -f GPKG -nln rdcl -oo ENCODING=CP932 data/_hakone.gpkg data/gsi_nummap/523961/DKG-SHP-523961-RdCL-20180814-0001.shp"
   ]
  }
 ],
 "metadata": {
  "kernelspec": {
   "display_name": ".venv",
   "language": "python",
   "name": "python3"
  },
  "language_info": {
   "codemirror_mode": {
    "name": "ipython",
    "version": 3
   },
   "file_extension": ".py",
   "mimetype": "text/x-python",
   "name": "python",
   "nbconvert_exporter": "python",
   "pygments_lexer": "ipython3",
   "version": "3.10.5"
  },
  "orig_nbformat": 4,
  "vscode": {
   "interpreter": {
    "hash": "065f742e4f796a170d092d848d20ee8ef84a781a689ae5c3bcee7c5645bd2543"
   }
  }
 },
 "nbformat": 4,
 "nbformat_minor": 2
}
