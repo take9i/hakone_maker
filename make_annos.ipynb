{
 "cells": [
  {
   "cell_type": "code",
   "execution_count": null,
   "metadata": {},
   "outputs": [],
   "source": [
    "import geopandas as gpd\n",
    "\n",
    "df = gpd.read_file('./data/gsi_nummap/523960/DKG-SHP-523960-Anno-20190125-0001.shp', encoding='Shift-JIS').drop([\n",
    "    'lfSpanFr', 'lfSpanTo', 'tmpFlg', 'admCode', 'devDate', 'repPt', 'gaiji', 'noChar', 'arrng', 'arrngAgl',\n",
    "    'charG1', 'charG2', 'charG3', 'charG4', 'charG5', 'charG6', 'charG7', 'charG8', 'charG9', 'charG10',\n",
    "    'charG11', 'charG12', 'charG13', 'charG14', 'charG15', 'charG16', 'charG17', 'charG18', 'charG19', 'charG20',\n",
    "    'charG21', 'charG22'\n",
    "], axis=1)\n",
    "df.to_file('./data/_anno_tmp.geojson', index=False, driver='GeoJSON')\n",
    "# edit tmp_geoj on qgis"
   ]
  },
  {
   "cell_type": "code",
   "execution_count": 45,
   "metadata": {},
   "outputs": [],
   "source": [
    "import pandas as pd\n",
    "from shapely.geometry import Point\n",
    "import utils\n",
    "\n",
    "get_alt = utils.get_get_alt('./data/_hakone.vrt')\n",
    "\n",
    "df = gpd.read_file('./data/_anno_tmp.geojson')\n",
    "# df.geometry = df.geometry.apply(lambda g: Point(list(c:=g.coords[0]) + [get_alt(*c)]))\n",
    "adf = pd.DataFrame([\n",
    "  # { 'rID': '_001', 'orgGILvl': '_', \"ftCode\": \"0312\", 'annoCtg': '_', \"knj\": \"富士山\", 'kana': '_', 'geometry': Point([ 138.727778, 35.360556, 3776.84 ])}\n",
    "  { 'rID': '_001', 'orgGILvl': '_', \"ftCode\": \"0312\", 'annoCtg': '_', \"knj\": \"富士山\", 'kana': '_', 'geometry': Point([ 138.727778, 35.360556 ])}\n",
    "])\n",
    "adf = gpd.GeoDataFrame(adf, geometry='geometry', crs='JGD2011')\n",
    "df = pd.concat([df, adf], ignore_index=True)\n",
    "\n",
    "df.to_file('./dst/anno.geojson', index=False, driver='GeoJSON')"
   ]
  },
  {
   "cell_type": "code",
   "execution_count": 6,
   "metadata": {},
   "outputs": [],
   "source": [
    "import geopandas as gpd\n",
    "df = gpd.read_file('./data/gsi_nummap/523960/DKG-SHP-523960-BldSbl-20190125-0001.shp', encoding='Shift-JIS').drop([\n",
    "    'lfSpanFr', 'lfSpanTo', 'tmpFlg', 'admCode', 'devDate'], axis=1)\n",
    "df.to_file('./data/_bldsbl_tmp.geojson', index=False, driver='GeoJSON')\n",
    "# edit tmp_geoj on q"
   ]
  },
  {
   "cell_type": "code",
   "execution_count": 44,
   "metadata": {},
   "outputs": [],
   "source": [
    "import geopandas as gpd\n",
    "gpd.read_file('./data/_bldsbl_tmp.geojson').to_file('./dst/bldsbl.geojson', index=False, driver='GeoJSON')"
   ]
  },
  {
   "cell_type": "code",
   "execution_count": 43,
   "metadata": {},
   "outputs": [
    {
     "data": {
      "text/html": [
       "<div>\n",
       "<style scoped>\n",
       "    .dataframe tbody tr th:only-of-type {\n",
       "        vertical-align: middle;\n",
       "    }\n",
       "\n",
       "    .dataframe tbody tr th {\n",
       "        vertical-align: top;\n",
       "    }\n",
       "\n",
       "    .dataframe thead th {\n",
       "        text-align: right;\n",
       "    }\n",
       "</style>\n",
       "<table border=\"1\" class=\"dataframe\">\n",
       "  <thead>\n",
       "    <tr style=\"text-align: right;\">\n",
       "      <th></th>\n",
       "      <th>rID</th>\n",
       "      <th>orgGILvl</th>\n",
       "      <th>ftCode</th>\n",
       "      <th>type</th>\n",
       "      <th>name</th>\n",
       "      <th>geometry</th>\n",
       "    </tr>\n",
       "  </thead>\n",
       "  <tbody>\n",
       "    <tr>\n",
       "      <th>72</th>\n",
       "      <td>50073-12681-i-657</td>\n",
       "      <td>25000</td>\n",
       "      <td>3200</td>\n",
       "      <td>指示点</td>\n",
       "      <td>箱根観音</td>\n",
       "      <td>POINT Z (139.09335 35.22697 156.38313)</td>\n",
       "    </tr>\n",
       "    <tr>\n",
       "      <th>74</th>\n",
       "      <td>50073-12681-i-661</td>\n",
       "      <td>25000</td>\n",
       "      <td>3200</td>\n",
       "      <td>指示点</td>\n",
       "      <td>湯場・熊野神社</td>\n",
       "      <td>POINT Z (139.09896 35.23119 110.67479)</td>\n",
       "    </tr>\n",
       "    <tr>\n",
       "      <th>76</th>\n",
       "      <td>50073-12684-i-327</td>\n",
       "      <td>25000</td>\n",
       "      <td>3200</td>\n",
       "      <td>指示点</td>\n",
       "      <td>火伏観音</td>\n",
       "      <td>POINT Z (139.09364 35.23478 156.45039)</td>\n",
       "    </tr>\n",
       "    <tr>\n",
       "      <th>79</th>\n",
       "      <td>50076-12681-i-1186</td>\n",
       "      <td>25000</td>\n",
       "      <td>3200</td>\n",
       "      <td>指示点</td>\n",
       "      <td>正眼寺</td>\n",
       "      <td>POINT Z (139.10013 35.22849 140.91197)</td>\n",
       "    </tr>\n",
       "    <tr>\n",
       "      <th>87</th>\n",
       "      <td>50076-12681-i-1197</td>\n",
       "      <td>25000</td>\n",
       "      <td>3200</td>\n",
       "      <td>指示点</td>\n",
       "      <td>白山神社</td>\n",
       "      <td>POINT Z (139.10465 35.22913 130.01162)</td>\n",
       "    </tr>\n",
       "  </tbody>\n",
       "</table>\n",
       "</div>"
      ],
      "text/plain": [
       "                   rID orgGILvl ftCode type     name  \\\n",
       "72   50073-12681-i-657    25000   3200  指示点     箱根観音   \n",
       "74   50073-12681-i-661    25000   3200  指示点  湯場・熊野神社   \n",
       "76   50073-12684-i-327    25000   3200  指示点     火伏観音   \n",
       "79  50076-12681-i-1186    25000   3200  指示点      正眼寺   \n",
       "87  50076-12681-i-1197    25000   3200  指示点     白山神社   \n",
       "\n",
       "                                  geometry  \n",
       "72  POINT Z (139.09335 35.22697 156.38313)  \n",
       "74  POINT Z (139.09896 35.23119 110.67479)  \n",
       "76  POINT Z (139.09364 35.23478 156.45039)  \n",
       "79  POINT Z (139.10013 35.22849 140.91197)  \n",
       "87  POINT Z (139.10465 35.22913 130.01162)  "
      ]
     },
     "execution_count": 43,
     "metadata": {},
     "output_type": "execute_result"
    }
   ],
   "source": [
    "df[df.name.notnull()]"
   ]
  },
  {
   "cell_type": "code",
   "execution_count": 4,
   "metadata": {},
   "outputs": [
    {
     "data": {
      "text/plain": [
       "array([[0],\n",
       "       [1]])"
      ]
     },
     "execution_count": 4,
     "metadata": {},
     "output_type": "execute_result"
    }
   ],
   "source": [
    "import geopandas as gpd\n",
    "from shapely.geometry import Point, box\n",
    "s = gpd.GeoSeries(gpd.points_from_xy(range(10), range(10)))\n",
    "s.sindex.nearest([Point(1, 1)])"
   ]
  },
  {
   "cell_type": "code",
   "execution_count": 13,
   "metadata": {},
   "outputs": [
    {
     "data": {
      "text/plain": [
       "array([[0],\n",
       "       [0]])"
      ]
     },
     "execution_count": 13,
     "metadata": {},
     "output_type": "execute_result"
    }
   ],
   "source": [
    "bdf.geometry.sindex.nearest(adf.iloc[0].geometry)"
   ]
  },
  {
   "cell_type": "code",
   "execution_count": 15,
   "metadata": {},
   "outputs": [
    {
     "data": {
      "text/plain": [
       "(rID                          50040-12687-i-518\n",
       " orgGILvl                                 25000\n",
       " ftCode                                    3200\n",
       " type                                       指示点\n",
       " name                                      None\n",
       " geometry    POINT (139.005506229 35.242923217)\n",
       " Name: 0, dtype: object,\n",
       " rID                          50043-12687-i-364\n",
       " orgGILvl                                 25000\n",
       " ftCode                                    3231\n",
       " type                                        神社\n",
       " name                                      None\n",
       " geometry    POINT (139.009755786 35.243516273)\n",
       " Name: 2, dtype: object)"
      ]
     },
     "execution_count": 15,
     "metadata": {},
     "output_type": "execute_result"
    }
   ],
   "source": [
    "adf.iloc[0], bdf.iloc[0]"
   ]
  },
  {
   "cell_type": "code",
   "execution_count": null,
   "metadata": {},
   "outputs": [],
   "source": []
  }
 ],
 "metadata": {
  "kernelspec": {
   "display_name": "Python 3.10.5 ('.venv': poetry)",
   "language": "python",
   "name": "python3"
  },
  "language_info": {
   "codemirror_mode": {
    "name": "ipython",
    "version": 3
   },
   "file_extension": ".py",
   "mimetype": "text/x-python",
   "name": "python",
   "nbconvert_exporter": "python",
   "pygments_lexer": "ipython3",
   "version": "3.10.5 (main, Dec  1 2022, 21:32:38) [Clang 14.0.0 (clang-1400.0.29.102)]"
  },
  "orig_nbformat": 4,
  "vscode": {
   "interpreter": {
    "hash": "065f742e4f796a170d092d848d20ee8ef84a781a689ae5c3bcee7c5645bd2543"
   }
  }
 },
 "nbformat": 4,
 "nbformat_minor": 2
}
