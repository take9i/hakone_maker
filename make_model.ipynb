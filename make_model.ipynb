{
 "cells": [
  {
   "attachments": {},
   "cell_type": "markdown",
   "metadata": {},
   "source": [
    "# make models\n",
    "\n",
    "- vehicles\n",
    "    - asset: [Low Poly Cars](https://assetstore.unity.com/packages/3d/vehicles/land/low-poly-cars-101798)\n",
    "    - I exported on unity.\n",
    "- pedestrian\n",
    "    - asset: [Low Poly Stickman](https://sketchfab.com/3d-models/low-poly-stickman-23d1bb8b97934f22b18b3e5530b2e6c3)\n",
    "    - I added animation on mixamo and download fbx, and exported on blendar"
   ]
  }
 ],
 "metadata": {
  "language_info": {
   "name": "python"
  },
  "orig_nbformat": 4
 },
 "nbformat": 4,
 "nbformat_minor": 2
}
